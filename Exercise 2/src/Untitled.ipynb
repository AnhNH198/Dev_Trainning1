{
 "cells": [
  {
   "cell_type": "code",
   "execution_count": 1,
   "metadata": {},
   "outputs": [],
   "source": [
    "import pandas as pd"
   ]
  },
  {
   "cell_type": "code",
   "execution_count": 2,
   "metadata": {},
   "outputs": [],
   "source": [
    "data = pd.read_csv(r'customer.csv')"
   ]
  },
  {
   "cell_type": "code",
   "execution_count": 11,
   "metadata": {},
   "outputs": [],
   "source": [
    "df = pd.DataFrame(data, columns=['customerid', 'firstname', 'lastname', 'companyname', 'billingaddress1', 'billingaddress2', 'city', 'state', 'postalcode', 'country', 'phonenumber', 'emailaddress', 'createddate'])"
   ]
  },
  {
   "cell_type": "code",
   "execution_count": 12,
   "metadata": {},
   "outputs": [
    {
     "name": "stdout",
     "output_type": "stream",
     "text": [
      "    customerid     firstname   lastname          companyname  \\\n",
      "0        69906        justin  arsenault                  NaN   \n",
      "1        69907          Wade      Banks                  NaN   \n",
      "2        69908          Sean     Powers                  NaN   \n",
      "3        69909         Riley      Cocke    Western counters    \n",
      "4        69910     Sherrilyn    Carroll                  NaN   \n",
      "5        69911        Rickey    Johnson                  NaN   \n",
      "6        69912        Sandra   Lemunyon  Low Kountry Trukkin   \n",
      "7        69913        Thomas  Campbell                   NaN   \n",
      "8        69914           Tom   Crenshaw                  NaN   \n",
      "9        69915          John     Lowery                 1967   \n",
      "10       69916       Stephen  Schroeder                  NaN   \n",
      "11       69917       Vincent     Loesch                  NaN   \n",
      "12       69918       Timothy  Pickering                  NaN   \n",
      "13       69919       Matthew     Gangne                  NaN   \n",
      "14       69920          Jeff        NaN                  NaN   \n",
      "15       69921         James      Sharp                James   \n",
      "16       69922         Lucas     Walker                  NaN   \n",
      "17       69923  pierre andre     martel                  NaN   \n",
      "\n",
      "           billingaddress1 billingaddress2         city state  postalcode  \\\n",
      "0          732 eastford rd             NaN  Southbridge    MA        1550   \n",
      "1            606 Ridge Way             NaN        Evans    GA       30809   \n",
      "2        293 ROSENSTEEL RD             NaN    SALTSBURG    PA       15681   \n",
      "3             1008 18th st               4  Paso Robles    CA       93446   \n",
      "4        12008 238TH AVE E             NaN      BUCKLEY    WA  98321-9680   \n",
      "5      144 Velvet Ridge Rd             NaN     BRADFORD    AR       72020   \n",
      "6          6123 Warner rd              NaN     Columbus    GA       31909   \n",
      "7       22875 Bravo Place              NaN     Salinas     CA       93908   \n",
      "8          228 Florence Dr             NaN        Aptof    CA       95003   \n",
      "9   897 S ROOSEVELT ROAD J        PORTALES     PORTALES    NM       88130   \n",
      "10           2078 Butte St             NaN      Redding    CA       96001   \n",
      "11       1125 Minnesota St             NaN    Shakopee     MN       55379   \n",
      "12      166 Capron Farm Dr             NaN      Warwick    RI        2886   \n",
      "13       167 Brickyard Rd.             NaN  Southampton    MA        1073   \n",
      "14                     NaN             NaN          NaN   NaN         NaN   \n",
      "15           5318 Acorn ct             NaN  League City    TX       77573   \n",
      "16    6477 Bayou Glen Rd.              NaN      Houston    TX       77057   \n",
      "17            10 DE BRAINE             NaN   BLAINVILLE    QC      j7b1z1   \n",
      "\n",
      "          country   phonenumber                     emailaddress  \\\n",
      "0   United States  508-735-9694         hondarider2508@gmail.com   \n",
      "1   United States  706-836-3122            bankswade77@gmail.com   \n",
      "2   United States    7244647895              bonez62@netzero.com   \n",
      "3   United States    8059752151        dailydriven90ls@gmail.com   \n",
      "4   United States    3608970890            action@centurytel.net   \n",
      "5   United States   15012780369               rjgalute@gmail.com   \n",
      "6   United States    3363546684         Crazyred1992@outlook.com   \n",
      "7   United States    8318097979               Soup5511@gmail.com   \n",
      "8   United States  831-431-0906             tomcrencat@gmail.com   \n",
      "9   United States    5752658263             johnlowery67@msn.com   \n",
      "10  United States  210-421-6098  stephencschroeder@sbcglobal.net   \n",
      "11  United States    6125584360              vloesch@comcast.net   \n",
      "12  United States  401-533-6677             timepick67@gmail.com   \n",
      "13  United States  413-326-1338           electricmatt@yahoo.com   \n",
      "14            NaN           NaN             justjeffnv@gmail.com   \n",
      "15  United States    2817281319          jrsharp1955@comcast.net   \n",
      "16  United States    2108627702       lhwalker.cl300@hotmail.com   \n",
      "17         Canada  514-629-0849   pierre-andremartel@hotmail.com   \n",
      "\n",
      "        createddate  \n",
      "0    10/1/2019 6:47  \n",
      "1    10/1/2019 7:03  \n",
      "2    10/1/2019 7:31  \n",
      "3    10/1/2019 8:27  \n",
      "4    10/1/2019 8:51  \n",
      "5    10/1/2019 9:34  \n",
      "6    10/1/2019 9:43  \n",
      "7   10/1/2019 10:44  \n",
      "8   10/1/2019 10:49  \n",
      "9   10/1/2019 10:49  \n",
      "10  10/1/2019 11:29  \n",
      "11  10/1/2019 11:50  \n",
      "12  10/1/2019 12:16  \n",
      "13  10/1/2019 12:18  \n",
      "14  10/1/2019 12:57  \n",
      "15  10/1/2019 13:04  \n",
      "16  10/1/2019 13:14  \n",
      "17  10/1/2019 13:32  \n"
     ]
    }
   ],
   "source": [
    "print(df)"
   ]
  },
  {
   "cell_type": "code",
   "execution_count": null,
   "metadata": {},
   "outputs": [],
   "source": []
  }
 ],
 "metadata": {
  "kernelspec": {
   "display_name": "Python 3",
   "language": "python",
   "name": "python3"
  },
  "language_info": {
   "codemirror_mode": {
    "name": "ipython",
    "version": 3
   },
   "file_extension": ".py",
   "mimetype": "text/x-python",
   "name": "python",
   "nbconvert_exporter": "python",
   "pygments_lexer": "ipython3",
   "version": "3.8.3"
  }
 },
 "nbformat": 4,
 "nbformat_minor": 4
}
